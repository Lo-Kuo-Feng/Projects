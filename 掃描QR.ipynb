{
 "cells": [
  {
   "cell_type": "markdown",
   "metadata": {},
   "source": [
    "## install"
   ]
  },
  {
   "cell_type": "code",
   "execution_count": 1,
   "metadata": {},
   "outputs": [
    {
     "name": "stdout",
     "output_type": "stream",
     "text": [
      "Requirement already up-to-date: pip in c:\\users\\user\\anaconda3\\lib\\site-packages (19.1.1)\n"
     ]
    }
   ],
   "source": [
    "!python -m pip install --upgrade pip"
   ]
  },
  {
   "cell_type": "code",
   "execution_count": null,
   "metadata": {
    "collapsed": true
   },
   "outputs": [],
   "source": [
    "!pip install opencv-python"
   ]
  },
  {
   "cell_type": "code",
   "execution_count": 3,
   "metadata": {},
   "outputs": [
    {
     "name": "stdout",
     "output_type": "stream",
     "text": [
      "Requirement already satisfied: opencv-contrib-python in c:\\users\\user\\anaconda3\\lib\\site-packages (3.4.0.12)\n",
      "Requirement already satisfied: numpy>=1.11.3 in c:\\users\\user\\anaconda3\\lib\\site-packages (from opencv-contrib-python) (1.16.0)\n"
     ]
    }
   ],
   "source": [
    "!pip install opencv-contrib-python"
   ]
  },
  {
   "cell_type": "code",
   "execution_count": 2,
   "metadata": {},
   "outputs": [
    {
     "name": "stdout",
     "output_type": "stream",
     "text": [
      "Collecting pyzbar\n",
      "  Using cached https://files.pythonhosted.org/packages/3d/14/97bf8e36fb58965415e3c7d8f95cfd6375cb0b5464ae9dbc0a48f7f9ab19/pyzbar-0.1.8-py2.py3-none-win_amd64.whl\n",
      "Installing collected packages: pyzbar\n",
      "Successfully installed pyzbar-0.1.8\n"
     ]
    }
   ],
   "source": [
    "!pip install pyzbar"
   ]
  },
  {
   "cell_type": "markdown",
   "metadata": {},
   "source": [
    "## version"
   ]
  },
  {
   "cell_type": "code",
   "execution_count": 1,
   "metadata": {},
   "outputs": [
    {
     "name": "stdout",
     "output_type": "stream",
     "text": [
      "0.1.8\n",
      "1.16.0\n",
      "3.4.0\n"
     ]
    }
   ],
   "source": [
    "import pyzbar\n",
    "import numpy as np\n",
    "import cv2\n",
    "\n",
    "print(pyzbar.__version__)\n",
    "print(np.__version__)\n",
    "print(cv2.__version__)"
   ]
  },
  {
   "cell_type": "markdown",
   "metadata": {},
   "source": [
    "## import"
   ]
  },
  {
   "cell_type": "code",
   "execution_count": 2,
   "metadata": {
    "collapsed": true
   },
   "outputs": [],
   "source": [
    "\"\"\"\n",
    "\n",
    "Raspberry pi install zbar\n",
    "$ sudo apt-get install libzbar0\n",
    "Mac install Zbar\n",
    "$ brew install zbar\n",
    "\n",
    "\n",
    "pip install pyzbar\n",
    "\n",
    "\"\"\"\n",
    "\n",
    "# First import the modules\n",
    "\n",
    "from __future__ import print_function\n",
    "#import pyzbar.pyzbar as pyzbar\n",
    "from pyzbar import pyzbar\n",
    "import numpy as np\n",
    "import cv2"
   ]
  },
  {
   "cell_type": "markdown",
   "metadata": {},
   "source": [
    "## function"
   ]
  },
  {
   "cell_type": "code",
   "execution_count": 3,
   "metadata": {
    "collapsed": true
   },
   "outputs": [],
   "source": [
    "def decode(im):\n",
    "    # Find barcodes and QR codes\n",
    "    decodedObjects = pyzbar.decode(im)\n",
    "\n",
    "    # Print results\n",
    "    for obj in decodedObjects:\n",
    "        print('Type : ', obj.type)\n",
    "        print('Data : ', obj.data, '\\n')\n",
    "\n",
    "    return decodedObjects\n",
    "\n",
    "\n",
    "# Display barcode and QR code location\n",
    "def display(im, decodedObjects):\n",
    "    # Loop over all decoded objects\n",
    "    for decodedObject in decodedObjects:\n",
    "        points = decodedObject.polygon\n",
    "\n",
    "        # If the points do not form a quad, find convex hull\n",
    "        if len(points) > 4:\n",
    "            hull = cv2.convexHull(np.array([point for point in points], dtype=np.float32))\n",
    "            hull = list(map(tuple, np.squeeze(hull)))\n",
    "        else:\n",
    "            hull = points;\n",
    "\n",
    "        # Number of points in the convex hull\n",
    "        n = len(hull)\n",
    "\n",
    "        # Draw the convext hull\n",
    "        for j in range(0, n):\n",
    "            cv2.line(im, hull[j], hull[(j + 1) % n], (255, 0, 0), 3)\n",
    "\n",
    "    # Display results\n",
    "    cv2.imshow(\"Results\", im)\n",
    "    cv2.waitKey(0)"
   ]
  },
  {
   "cell_type": "markdown",
   "metadata": {},
   "source": [
    "## main"
   ]
  },
  {
   "cell_type": "code",
   "execution_count": 4,
   "metadata": {
    "scrolled": true
   },
   "outputs": [
    {
     "name": "stdout",
     "output_type": "stream",
     "text": [
      "Type :  QRCODE\n",
      "Data :  b'{\"author\": \"Adrian\", \"site\": \"PyImageSearch\"}' \n",
      "\n",
      "Type :  QRCODE\n",
      "Data :  b'https://www.pyimagesearch.com/' \n",
      "\n",
      "Type :  QRCODE\n",
      "Data :  b'PyImageSearch' \n",
      "\n",
      "Type :  CODE128\n",
      "Data :  b'AdrianRosebrock' \n",
      "\n"
     ]
    }
   ],
   "source": [
    "# Main\n",
    "if __name__ == '__main__':\n",
    "    # Read image\n",
    "    im = cv2.imread('barcode_example.png')\n",
    "\n",
    "    decodedObjects = decode(im)\n",
    "    display(im, decodedObjects)"
   ]
  }
 ],
 "metadata": {
  "kernelspec": {
   "display_name": "Python 3",
   "language": "python",
   "name": "python3"
  },
  "language_info": {
   "codemirror_mode": {
    "name": "ipython",
    "version": 3
   },
   "file_extension": ".py",
   "mimetype": "text/x-python",
   "name": "python",
   "nbconvert_exporter": "python",
   "pygments_lexer": "ipython3",
   "version": "3.6.3"
  }
 },
 "nbformat": 4,
 "nbformat_minor": 2
}
